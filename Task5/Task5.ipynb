{
  "nbformat": 4,
  "nbformat_minor": 0,
  "metadata": {
    "colab": {
      "name": "Task4.ipynb",
      "provenance": []
    },
    "kernelspec": {
      "name": "python3",
      "display_name": "Python 3"
    }
  },
  "cells": [
    {
      "cell_type": "code",
      "metadata": {
        "id": "aDIbYum2hfvY"
      },
      "source": [
        "import spacy\n",
        "model = spacy.load('en_core_web_sm')"
      ],
      "execution_count": 1,
      "outputs": []
    },
    {
      "cell_type": "code",
      "metadata": {
        "id": "DeVlV9f6hnQS",
        "outputId": "4446481d-696d-4f43-b1d2-7387661a1172",
        "colab": {
          "base_uri": "https://localhost:8080/",
          "height": 420
        }
      },
      "source": [
        "text = 'spaCy is an open-source software library for advanced natural language processing, written in the programming languages Python and Cython. The library is published under the MIT license and its main developers are Matthew Honnibal and Ines Montani, the founders of the software company Explosion. Unlike NLTK, which is widely used for teaching and research, spaCy focuses on providing software for production usage. As of version 1.0, spaCy also supports deep learning workflows that allow connecting statistical models trained by popular machine learning libraries like TensorFlow, PyTorch or MXNet through its own machine learning library Thinc.Using Thinc as its backend, spaCy features convolutional neural network models for part-of-speech tagging, dependency parsing, text categorization and named entity recognition (NER). Prebuilt statistical neural network models to perform these task are available for English, German, Greek, Spanish, Portuguese, French, Italian, Dutch, Lithuanian and Norwegian, and there is also a multi-language NER model. Additional support for tokenization for more than 50 languages allows users to train custom models on their own datasets as well.'\n",
        "doc = model(text)\n",
        "\n",
        "for ent in doc.ents:\n",
        "  print(ent.text, ent.label_)"
      ],
      "execution_count": 2,
      "outputs": [
        {
          "output_type": "stream",
          "text": [
            "Python GPE\n",
            "Cython ORG\n",
            "MIT ORG\n",
            "Matthew Honnibal PERSON\n",
            "Ines Montani PERSON\n",
            "Unlike NLTK PERSON\n",
            "1.0 CARDINAL\n",
            "TensorFlow PRODUCT\n",
            "PyTorch ORG\n",
            "MXNet ORG\n",
            "Thinc PRODUCT\n",
            "Thinc ORG\n",
            "NER ORG\n",
            "English LANGUAGE\n",
            "German NORP\n",
            "Greek NORP\n",
            "Spanish LANGUAGE\n",
            "Portuguese LANGUAGE\n",
            "French NORP\n",
            "Italian NORP\n",
            "Dutch NORP\n",
            "Lithuanian NORP\n",
            "Norwegian NORP\n",
            "more than 50 CARDINAL\n"
          ],
          "name": "stdout"
        }
      ]
    },
    {
      "cell_type": "code",
      "metadata": {
        "id": "ppd1VNh-humf",
        "outputId": "1d60dada-0d5f-415e-baa0-b1d180ec6803",
        "colab": {
          "base_uri": "https://localhost:8080/",
          "height": 269
        }
      },
      "source": [
        "#Example 2\n",
        "ex2 = 'Vellore Institute of Technology (VIT) is a private university located in Vellore, Tamil Nadu, India. Founded in 1984, as Vellore Engineering College, by G. Viswanathan, the institution offers 20 undergraduate, 34 postgraduate, four integrated and four research programs. It has campuses in Vellore, Amravati, Bhopal and Chennai.'\n",
        "doc = model(ex2)\n",
        "for ent in doc.ents:\n",
        "    print(ent.text,ent.label_)"
      ],
      "execution_count": 3,
      "outputs": [
        {
          "output_type": "stream",
          "text": [
            "Vellore Institute of Technology ORG\n",
            "Vellore GPE\n",
            "Tamil Nadu PERSON\n",
            "India GPE\n",
            "1984 DATE\n",
            "Vellore Engineering College ORG\n",
            "G. Viswanathan PERSON\n",
            "20 CARDINAL\n",
            "undergraduate ORG\n",
            "34 CARDINAL\n",
            "four CARDINAL\n",
            "four CARDINAL\n",
            "Vellore GPE\n",
            "Amravati GPE\n",
            "Bhopal ORG\n"
          ],
          "name": "stdout"
        }
      ]
    },
    {
      "cell_type": "code",
      "metadata": {
        "id": "wzauVSpmhz5G",
        "outputId": "a5e9a90c-3ffd-4eb5-c1fa-0e4c202c61db",
        "colab": {
          "base_uri": "https://localhost:8080/",
          "height": 168
        }
      },
      "source": [
        "#Example 3\n",
        "ex3 = 'Liverpool Football Club is a professional football club in Liverpool, England, that competes in the Premier League, the top tier of English football. Domestically, the club has won nineteen League titles, seven FA Cups, a record eight League Cups and fifteen FA Community Shields.'\n",
        "doc = model(ex3)\n",
        "for ent in doc.ents:\n",
        "    print(ent.text,ent.label_)"
      ],
      "execution_count": 4,
      "outputs": [
        {
          "output_type": "stream",
          "text": [
            "Liverpool Football Club ORG\n",
            "Liverpool GPE\n",
            "England GPE\n",
            "the Premier League ORG\n",
            "English NORP\n",
            "nineteen League ORG\n",
            "seven CARDINAL\n",
            "eight CARDINAL\n",
            "fifteen CARDINAL\n"
          ],
          "name": "stdout"
        }
      ]
    },
    {
      "cell_type": "code",
      "metadata": {
        "id": "izEwwJKNiBfJ"
      },
      "source": [
        "locs = [('Omnicom', 'IN', 'New York'),('DDB Needham', 'IN', 'New York'), ('Kaplan Thaler Group', 'IN', 'New York'),(\"archit\",\"DL\",\"Delhi\"),('BBDO South', 'IN', 'Atlanta'), ('Georgia-Pacific', 'IN', 'Atlanta')]"
      ],
      "execution_count": 8,
      "outputs": []
    },
    {
      "cell_type": "code",
      "metadata": {
        "id": "AD3j7FqdiHii",
        "outputId": "d31353df-4140-417f-a630-9cefa9ed77af",
        "colab": {
          "base_uri": "https://localhost:8080/",
          "height": 34
        }
      },
      "source": [
        "query = [e1 for (e1,rel,e2) in locs if e2==\"Atlanta\"]\n",
        "print(query)"
      ],
      "execution_count": 9,
      "outputs": [
        {
          "output_type": "stream",
          "text": [
            "['BBDO South', 'Georgia-Pacific']\n"
          ],
          "name": "stdout"
        }
      ]
    },
    {
      "cell_type": "code",
      "metadata": {
        "id": "VcYcdsRTiKBk",
        "outputId": "9e66c801-626a-4d4b-be71-39de24a050ef",
        "colab": {
          "base_uri": "https://localhost:8080/",
          "height": 34
        }
      },
      "source": [
        "query2 = [e1 for (e1,rel,e2) in locs if e2==\"Delhi\"]\n",
        "print(query2)"
      ],
      "execution_count": 10,
      "outputs": [
        {
          "output_type": "stream",
          "text": [
            "['archit']\n"
          ],
          "name": "stdout"
        }
      ]
    },
    {
      "cell_type": "code",
      "metadata": {
        "id": "dPSwqoC1iMgg"
      },
      "source": [
        ""
      ],
      "execution_count": null,
      "outputs": []
    }
  ]
}